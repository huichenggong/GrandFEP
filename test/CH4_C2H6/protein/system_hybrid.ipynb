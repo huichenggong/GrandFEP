{
 "cells": [
  {
   "cell_type": "markdown",
   "id": "6162f052-6866-4fac-a4c1-c71794dd27a9",
   "metadata": {},
   "source": [
    "# Shift\n",
    "Move CH4 and C2H6 to the binding site where the ligand was"
   ]
  },
  {
   "cell_type": "code",
   "execution_count": 29,
   "id": "e788dbfe-a8a4-4e70-956d-11edb44c763f",
   "metadata": {},
   "outputs": [],
   "source": [
    "from pathlib import Path\n",
    "import gzip\n",
    "\n",
    "import numpy as np\n",
    "\n",
    "from openmm import app, openmm, unit\n",
    "from grandfep import utils\n"
   ]
  },
  {
   "cell_type": "code",
   "execution_count": 9,
   "id": "b21b07cd-66a0-4890-9fa2-8beb82ab3039",
   "metadata": {},
   "outputs": [],
   "source": [
    "pdb_a   = app.PDBFile(\"../lig0/06_solv.pdb\")\n",
    "pdb_b   = app.PDBFile(\"../lig1/06_solv.pdb\")\n",
    "pdb_lig = app.PDBFile(\"02-lig.pdb\")"
   ]
  },
  {
   "cell_type": "code",
   "execution_count": 7,
   "id": "9b6064cb-a03a-4cc2-bb6c-fdde74487583",
   "metadata": {},
   "outputs": [
    {
     "data": {
      "text/plain": [
       "Quantity(value=array([[1.5171, 1.5285, 1.4657],\n",
       "       [1.5528, 1.4277, 1.4657],\n",
       "       [1.5528, 1.579 , 1.5531],\n",
       "       [1.5528, 1.579 , 1.3783],\n",
       "       [1.4101, 1.5286, 1.4657]]), unit=nanometer)"
      ]
     },
     "execution_count": 7,
     "metadata": {},
     "output_type": "execute_result"
    }
   ],
   "source": [
    "pos_a = pdb_a.getPositions(asNumpy=True)[:5]"
   ]
  },
  {
   "cell_type": "code",
   "execution_count": 8,
   "id": "d4d0e859-e9fc-433d-9797-0d3430b86516",
   "metadata": {},
   "outputs": [
    {
     "data": {
      "text/plain": [
       "Quantity(value=array([[1.5171, 1.5285, 1.4657],\n",
       "       [1.4578, 1.4445, 1.4948],\n",
       "       [1.6005, 1.4949, 1.4075],\n",
       "       [1.4578, 1.5958, 1.4074],\n",
       "       [1.5684, 1.6011, 1.5914],\n",
       "       [1.4852, 1.6346, 1.6497],\n",
       "       [1.628 , 1.5339, 1.6496],\n",
       "       [1.6279, 1.6852, 1.5623]]), unit=nanometer)"
      ]
     },
     "execution_count": 8,
     "metadata": {},
     "output_type": "execute_result"
    }
   ],
   "source": [
    "pos_b = pdb_b.getPositions(asNumpy=True)[:8]"
   ]
  },
  {
   "cell_type": "code",
   "execution_count": 13,
   "id": "574619da-920b-4a2e-be3c-0b063a2f42fe",
   "metadata": {},
   "outputs": [
    {
     "data": {
      "text/plain": [
       "Quantity(value=array([ 0.1925, -0.2459, -0.1726]), unit=nanometer)"
      ]
     },
     "execution_count": 13,
     "metadata": {},
     "output_type": "execute_result"
    }
   ],
   "source": [
    "pos_0 = pdb_lig.getPositions(asNumpy=True)[0]\n",
    "pos_0"
   ]
  },
  {
   "cell_type": "code",
   "execution_count": 17,
   "id": "2a424516-1daf-4dab-a632-5b9426cb4f6b",
   "metadata": {},
   "outputs": [],
   "source": [
    "pdb = pdb_a\n",
    "pos = pdb.getPositions(asNumpy=True)\n",
    "pos_shifted = pos + (pos_0 - pos[0])\n",
    "with open(\"03-A-CH4.pdb\", \"w\") as f:\n",
    "    app.PDBFile.writeFile(pdb.topology, pos_shifted, f)"
   ]
  },
  {
   "cell_type": "code",
   "execution_count": 18,
   "id": "fad03e8b-c560-429b-82ce-d2e1c84d481e",
   "metadata": {},
   "outputs": [],
   "source": [
    "pdb = pdb_b\n",
    "pos = pdb.getPositions(asNumpy=True)\n",
    "pos_shifted = pos + (pos_0 - pos[0])\n",
    "with open(\"03-B-C2H6.pdb\", \"w\") as f:\n",
    "    app.PDBFile.writeFile(pdb.topology, pos_shifted, f)"
   ]
  },
  {
   "cell_type": "markdown",
   "id": "b64b586e-b777-474f-a74a-213185ff421a",
   "metadata": {},
   "source": [
    "# Hybrid System"
   ]
  },
  {
   "cell_type": "code",
   "execution_count": 34,
   "id": "a9c0ed9c-620c-4992-9ecd-1ff561ca923c",
   "metadata": {},
   "outputs": [],
   "source": [
    "nonbonded_Amber = {\"nonbondedMethod\": app.PME,\n",
    "                   \"nonbondedCutoff\": 1.0 * unit.nanometer,\n",
    "                   \"constraints\": app.HBonds,\n",
    "                   }"
   ]
  },
  {
   "cell_type": "code",
   "execution_count": 45,
   "id": "6a44a72c-9d5e-41a2-8d81-1a8421960b2c",
   "metadata": {},
   "outputs": [],
   "source": [
    "inpcrdA = app.AmberInpcrdFile(\"05-stateA.rst7\")\n",
    "inpcrdB = app.AmberInpcrdFile(\"05-stateB.rst7\")\n",
    "prmtopA = app.AmberPrmtopFile(\"05-stateA.prmtop\", periodicBoxVectors=inpcrdA.boxVectors)\n",
    "prmtopB = app.AmberPrmtopFile(\"05-stateB.prmtop\", periodicBoxVectors=inpcrdB.boxVectors)\n",
    "nonbonded = nonbonded_Amber\n",
    "\n",
    "sysA = prmtopA.createSystem(**nonbonded)\n",
    "sysB = prmtopB.createSystem(**nonbonded)"
   ]
  },
  {
   "cell_type": "code",
   "execution_count": 46,
   "id": "47bc08be-9f62-4207-bfa9-2915cbb500db",
   "metadata": {},
   "outputs": [],
   "source": [
    "mapping_list = [{'res_nameA': 'MOL',\n",
    "                 'res_nameB': 'MOL',\n",
    "                 'index_map': {0: 0}}]\n",
    "old_to_new_atom_map, old_to_new_core_atom_map = utils.prepare_atom_map(prmtopA.topology, prmtopB.topology, mapping_list)\n",
    "h_factory = utils.HybridTopologyFactory(\n",
    "    sysA, inpcrdA.getPositions(), prmtopA.topology, sysB, inpcrdB.getPositions(), prmtopB.topology,\n",
    "    old_to_new_atom_map,      # All atoms that should map from A to B\n",
    "    old_to_new_core_atom_map, # Alchemical Atoms that should map from A to B\n",
    "    use_dispersion_correction=True,\n",
    "    softcore_LJ_v2=False)"
   ]
  },
  {
   "cell_type": "code",
   "execution_count": 47,
   "id": "8e30fdbe-e180-46b7-bcf3-502faf1a1275",
   "metadata": {},
   "outputs": [],
   "source": [
    "system    = h_factory.hybrid_system\n",
    "topology  = h_factory.omm_hybrid_topology\n",
    "positions = h_factory.hybrid_positions"
   ]
  },
  {
   "cell_type": "code",
   "execution_count": 48,
   "id": "36848b18-73c8-48f3-a239-41eb8d0ea27b",
   "metadata": {},
   "outputs": [],
   "source": [
    "with gzip.open(\"system_hybrid.xml.gz\", mode=\"wt\") as fh:\n",
    "    fh.write(openmm.XmlSerializer.serialize(system))\n",
    "\n",
    "with open(\"system_hybrid.pdb\", \"w\") as f:\n",
    "    app.PDBFile.writeFile(topology, positions, f)"
   ]
  },
  {
   "cell_type": "code",
   "execution_count": 49,
   "id": "05a82962-5806-4ce9-bb6f-abb41e3b424a",
   "metadata": {},
   "outputs": [
    {
     "data": {
      "text/plain": [
       "3532"
      ]
     },
     "execution_count": 49,
     "metadata": {},
     "output_type": "execute_result"
    }
   ],
   "source": [
    "len([at for at in prmtopA.topology.atoms()])"
   ]
  },
  {
   "cell_type": "code",
   "execution_count": 50,
   "id": "7b0af019-07c5-4cc3-943e-e87515097d45",
   "metadata": {},
   "outputs": [
    {
     "data": {
      "text/plain": [
       "3535"
      ]
     },
     "execution_count": 50,
     "metadata": {},
     "output_type": "execute_result"
    }
   ],
   "source": [
    "len([at for at in prmtopB.topology.atoms()])"
   ]
  },
  {
   "cell_type": "code",
   "execution_count": 51,
   "id": "469aaf2e-cc6e-48bf-8ec5-964feca4466c",
   "metadata": {},
   "outputs": [
    {
     "data": {
      "text/plain": [
       "3539"
      ]
     },
     "execution_count": 51,
     "metadata": {},
     "output_type": "execute_result"
    }
   ],
   "source": [
    "len([at for at in topology.atoms()])"
   ]
  },
  {
   "cell_type": "code",
   "execution_count": null,
   "id": "92caac4d-5c7c-4394-a4ec-e88b63f286b7",
   "metadata": {},
   "outputs": [],
   "source": []
  }
 ],
 "metadata": {
  "kernelspec": {
   "display_name": "grandfep",
   "language": "python",
   "name": "grandfep"
  },
  "language_info": {
   "codemirror_mode": {
    "name": "ipython",
    "version": 3
   },
   "file_extension": ".py",
   "mimetype": "text/x-python",
   "name": "python",
   "nbconvert_exporter": "python",
   "pygments_lexer": "ipython3",
   "version": "3.12.9"
  }
 },
 "nbformat": 4,
 "nbformat_minor": 5
}
